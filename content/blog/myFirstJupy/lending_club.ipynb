{
 "cells": [
  {
   "cell_type": "markdown",
   "metadata": {},
   "source": [
    "## Load Packages"
   ]
  },
  {
   "cell_type": "code",
   "execution_count": null,
   "metadata": {},
   "outputs": [],
   "source": [
    "import warnings\n",
    "warnings.filterwarnings('ignore')\n",
    "##\n",
    "import pandas as pd\n",
    "import numpy as np\n",
    "import dalex as dx\n",
    "import math\n",
    "import matplotlib.pyplot as plt\n",
    "from pprint import pprint\n",
    "##\n",
    "from sklearn import preprocessing\n",
    "##\n",
    "from sklearn.model_selection import train_test_split\n",
    "from sklearn.model_selection import RandomizedSearchCV\n",
    "##\n",
    "from sklearn.decomposition import PCA\n",
    "##\n",
    "from sklearn.tree import DecisionTreeClassifier  \n",
    "from sklearn import tree\n",
    "##\n",
    "from sklearn.linear_model import LogisticRegression\n",
    "from sklearn.linear_model import RidgeClassifierCV\n",
    "##\n",
    "from sklearn.ensemble import RandomForestClassifier\n",
    "from sklearn import svm\n",
    "##\n",
    "from xgboost import XGBClassifier\n",
    "##\n",
    "from sklearn import metrics\n",
    "from sklearn.metrics import confusion_matrix\n",
    "from sklearn.metrics import plot_confusion_matrix\n",
    "##\n",
    "from sklearn.model_selection import cross_val_score"
   ]
  },
  {
   "cell_type": "markdown",
   "metadata": {},
   "source": [
    "## Function"
   ]
  },
  {
   "cell_type": "code",
   "execution_count": null,
   "metadata": {},
   "outputs": [],
   "source": [
    "def evaluate(model, test_features, test_labels):\n",
    "    predictions = model.predict(test_features)\n",
    "    accuracy = round(metrics.accuracy_score(y_true=test_labels, y_pred=predictions),2)\n",
    "    fpr, tpr, thresholds = metrics.roc_curve(test_labels, predictions)\n",
    "    auc = round(metrics.auc(fpr,tpr),2)\n",
    "    roc_auc = round(metrics.roc_auc_score(y_true=test_labels, y_score=predictions),2)\n",
    "    roc_auc_score = round(metrics.roc_auc_score(y_true=test_labels, y_score=predictions),2)\n",
    "    print(f\"Accuracy = {accuracy}\\n\")\n",
    "    print(f\"AUC = {auc}\\n\")\n",
    "    print(f\"ROC AUC = {roc_auc}\\n\")\n",
    "    print(f\"ROC AUC SCORE = {roc_auc_score}\\n\")\n",
    "    return(accuracy,auc,roc_auc,roc_auc_score)"
   ]
  },
  {
   "cell_type": "code",
   "execution_count": null,
   "metadata": {},
   "outputs": [],
   "source": [
    "def get_important_features(transformed_features, components_, columns):\n",
    "    \"\"\"\n",
    "    This function will return the most \"important\" \n",
    "    features so we can determine which have the most\n",
    "    effect on multi-dimensional scaling\n",
    "    \"\"\"\n",
    "    num_columns = len(columns)\n",
    "\n",
    "    # Scale the principal components by the max value in\n",
    "    # the transformed set belonging to that component\n",
    "    xvector = components_[0] * max(transformed_features[:,0])\n",
    "    yvector = components_[1] * max(transformed_features[:,1])\n",
    "\n",
    "    # Sort each column by it's length. These are your *original*\n",
    "    # columns, not the principal components.\n",
    "    important_features = { columns[i] : math.sqrt(xvector[i]**2 + yvector[i]**2) for i in range(num_columns) }\n",
    "    important_features = sorted(zip(important_features.values(), important_features.keys()), reverse=True)\n",
    "    return important_features"
   ]
  },
  {
   "cell_type": "markdown",
   "metadata": {},
   "source": [
    "## Load Data"
   ]
  },
  {
   "cell_type": "code",
   "execution_count": null,
   "metadata": {},
   "outputs": [],
   "source": [
    "data_lending_club_default = pd.read_csv('data_lending_club_default.csv',low_memory=False)\n",
    "cols = [c for c in data_lending_club_default.columns if c.lower()[-5:] != '_cats']\n",
    "data_lending_club_default=data_lending_club_default[cols]\n",
    "data_lending_club_default.columns = data_lending_club_default.columns.str.replace(\"_nums\", \"\")\n",
    "data_lending_club_default.drop('id', inplace=True, axis=1)"
   ]
  },
  {
   "cell_type": "markdown",
   "metadata": {},
   "source": [
    "## Data Info"
   ]
  },
  {
   "cell_type": "code",
   "execution_count": null,
   "metadata": {
    "scrolled": true
   },
   "outputs": [],
   "source": [
    "data_lending_club_default.info()\n",
    "data_lending_club_default.head()"
   ]
  },
  {
   "cell_type": "code",
   "execution_count": null,
   "metadata": {
    "scrolled": true
   },
   "outputs": [],
   "source": [
    "data_lending_club_default.isnull().sum()"
   ]
  },
  {
   "cell_type": "code",
   "execution_count": null,
   "metadata": {
    "scrolled": true
   },
   "outputs": [],
   "source": [
    "data_lending_club_default = data_lending_club_default.dropna()\n",
    "data_lending_club_default.isnull().sum()"
   ]
  },
  {
   "cell_type": "code",
   "execution_count": null,
   "metadata": {},
   "outputs": [],
   "source": [
    "data_lending_club_default['loan_status'].value_counts()"
   ]
  },
  {
   "cell_type": "code",
   "execution_count": null,
   "metadata": {},
   "outputs": [],
   "source": [
    "print(\"%.2f\" % round(223424/len(data_lending_club_default.index), 2))"
   ]
  },
  {
   "cell_type": "markdown",
   "metadata": {},
   "source": [
    "## Graph"
   ]
  },
  {
   "cell_type": "code",
   "execution_count": null,
   "metadata": {},
   "outputs": [],
   "source": []
  },
  {
   "cell_type": "markdown",
   "metadata": {},
   "source": [
    "## Split Data"
   ]
  },
  {
   "cell_type": "code",
   "execution_count": null,
   "metadata": {},
   "outputs": [],
   "source": [
    "X = data_lending_club_default.drop('loan_status', axis=1)\n",
    "y = data_lending_club_default.loan_status"
   ]
  },
  {
   "cell_type": "markdown",
   "metadata": {},
   "source": [
    "## Correlation"
   ]
  },
  {
   "cell_type": "code",
   "execution_count": null,
   "metadata": {},
   "outputs": [],
   "source": [
    "corr = X.corr()\n",
    "corr"
   ]
  },
  {
   "cell_type": "code",
   "execution_count": null,
   "metadata": {},
   "outputs": [],
   "source": [
    "features_corr = ~(corr.mask(np.eye(len(corr), dtype=bool)).abs() > 0.3).any() # 0.3 lub 0.4\n",
    "features_corr"
   ]
  },
  {
   "cell_type": "code",
   "execution_count": null,
   "metadata": {},
   "outputs": [],
   "source": [
    "X_good = corr.loc[features_corr, features_corr]\n",
    "lst_variable_corr = X_good.columns.values.tolist()\n",
    "X_corr = X[np.intersect1d(X.columns, lst_variable_corr)]"
   ]
  },
  {
   "cell_type": "code",
   "execution_count": null,
   "metadata": {},
   "outputs": [],
   "source": [
    "df_corr = X[X_corr.columns]"
   ]
  },
  {
   "cell_type": "code",
   "execution_count": null,
   "metadata": {},
   "outputs": [],
   "source": [
    "df_corr"
   ]
  },
  {
   "cell_type": "markdown",
   "metadata": {},
   "source": [
    "## PCA"
   ]
  },
  {
   "cell_type": "code",
   "execution_count": null,
   "metadata": {},
   "outputs": [],
   "source": [
    "pca = PCA(n_components=14, svd_solver='full')\n",
    "pca.fit(X)"
   ]
  },
  {
   "cell_type": "code",
   "execution_count": null,
   "metadata": {},
   "outputs": [],
   "source": [
    "T = pca.transform(X)\n",
    "T.shape"
   ]
  },
  {
   "cell_type": "code",
   "execution_count": null,
   "metadata": {
    "scrolled": true
   },
   "outputs": [],
   "source": [
    "pca.explained_variance_ratio_"
   ]
  },
  {
   "cell_type": "code",
   "execution_count": null,
   "metadata": {
    "scrolled": true
   },
   "outputs": [],
   "source": [
    "components = pd.DataFrame(pca.components_, columns = X.columns, index=[1,2,3,4,5,6,7,8,9,10,11,12,13,14])\n",
    "components"
   ]
  },
  {
   "cell_type": "code",
   "execution_count": null,
   "metadata": {},
   "outputs": [],
   "source": [
    "pca_result = get_important_features(T, pca.components_, X.columns.values)\n",
    "pca_result = pd.DataFrame(pca_result,columns=['PCA_Value','Variable'])\n",
    "threshold = 3\n",
    "pca_result = pca_result[pca_result[\"PCA_Value\"] >= 75]\n",
    "pca_result"
   ]
  },
  {
   "cell_type": "code",
   "execution_count": null,
   "metadata": {},
   "outputs": [],
   "source": [
    "X_pca = pca_result['Variable']\n",
    "df_pca = X[X_pca]"
   ]
  },
  {
   "cell_type": "markdown",
   "metadata": {},
   "source": [
    "## Split Dataset "
   ]
  },
  {
   "cell_type": "code",
   "execution_count": null,
   "metadata": {},
   "outputs": [],
   "source": [
    "X_train, X_test, y_train, y_test = train_test_split(df_corr, y, test_size=0.3, random_state=1) # df_pca, df_corr"
   ]
  },
  {
   "cell_type": "markdown",
   "metadata": {},
   "source": [
    "## Decision Tree Classifier"
   ]
  },
  {
   "cell_type": "code",
   "execution_count": null,
   "metadata": {},
   "outputs": [],
   "source": [
    "clf_tree = DecisionTreeClassifier()\n",
    "clf_tree = clf_tree.fit(X_train,y_train)\n",
    "y_pred_tree = clf_tree.predict(X_test)\n",
    "score_dtc = round(metrics.accuracy_score(y_test, y_pred_tree),2)\n",
    "score_dtc"
   ]
  },
  {
   "cell_type": "code",
   "execution_count": null,
   "metadata": {},
   "outputs": [],
   "source": [
    "exp_tree = dx.Explainer(clf_tree, X_train, y_train)\n",
    "mp_tree = exp_tree.model_performance(model_type = 'classification')\n",
    "mp_tree.result"
   ]
  },
  {
   "cell_type": "code",
   "execution_count": null,
   "metadata": {
    "scrolled": true
   },
   "outputs": [],
   "source": [
    "mp_tree.plot()"
   ]
  },
  {
   "cell_type": "code",
   "execution_count": null,
   "metadata": {},
   "outputs": [],
   "source": [
    "vi_tree = exp_tree.model_parts()\n",
    "vi_tree.result"
   ]
  },
  {
   "cell_type": "code",
   "execution_count": null,
   "metadata": {
    "scrolled": true
   },
   "outputs": [],
   "source": [
    "vi_tree.plot(max_vars=10)"
   ]
  },
  {
   "cell_type": "code",
   "execution_count": null,
   "metadata": {
    "scrolled": true
   },
   "outputs": [],
   "source": [
    "pdp_num = exp_tree.model_profile(type = 'partial', label=\"pdp\")\n",
    "ale_num = exp_tree.model_profile(type = 'accumulated', label=\"ale\")\n",
    "pdp_num.plot(ale_num)"
   ]
  },
  {
   "cell_type": "code",
   "execution_count": null,
   "metadata": {
    "scrolled": false
   },
   "outputs": [],
   "source": [
    "score_val_dtc = cross_val_score(clf_tree, X_test, y_test, cv=5)\n",
    "score_val_dtc"
   ]
  },
  {
   "cell_type": "code",
   "execution_count": null,
   "metadata": {},
   "outputs": [],
   "source": [
    "conf_m_dtc = metrics.confusion_matrix(y_test, y_pred_tree)\n",
    "conf_m_dtc"
   ]
  },
  {
   "cell_type": "code",
   "execution_count": null,
   "metadata": {},
   "outputs": [],
   "source": [
    "plot_confusion_matrix(clf_tree, X_test, y_test) \n",
    "plt.show()  "
   ]
  },
  {
   "cell_type": "markdown",
   "metadata": {},
   "source": [
    "### Random Search Cross Validation "
   ]
  },
  {
   "cell_type": "code",
   "execution_count": null,
   "metadata": {
    "scrolled": false
   },
   "outputs": [],
   "source": [
    "print('Parameters currently in use:\\n')\n",
    "pprint(clf_tree.get_params())"
   ]
  },
  {
   "cell_type": "code",
   "execution_count": null,
   "metadata": {},
   "outputs": [],
   "source": [
    "# Create the random grid\n",
    "random_grid = {'ccp_alpha': [0.0],\n",
    "               'criterion': ['gini', 'entropy'],\n",
    "               'max_depth': [5,10,15,25],\n",
    "               'max_features': ['auto', 'sqrt', 'log2'],\n",
    "               'max_leaf_nodes': [2,4,6,8],\n",
    "               'min_impurity_decrease': [0.0],\n",
    "               'min_impurity_split': [2,4],\n",
    "               'min_samples_leaf': [1,3,5],\n",
    "               'min_samples_split': [2,4],\n",
    "               'min_weight_fraction_leaf': [0.0],\n",
    "               'presort': ['deprecated'],\n",
    "               'splitter': ['best', 'random']}\n",
    "pprint(random_grid)"
   ]
  },
  {
   "cell_type": "code",
   "execution_count": null,
   "metadata": {},
   "outputs": [],
   "source": [
    "tree_random = RandomizedSearchCV(estimator = clf_tree, \n",
    "                                  param_distributions = random_grid, \n",
    "                                  n_iter = 100, \n",
    "                                  cv = 3, \n",
    "                                  verbose=2, \n",
    "                                  random_state=42, \n",
    "                                  n_jobs = -1)"
   ]
  },
  {
   "cell_type": "code",
   "execution_count": null,
   "metadata": {
    "scrolled": true
   },
   "outputs": [],
   "source": [
    "tree_random.fit(X_train,y_train)"
   ]
  },
  {
   "cell_type": "code",
   "execution_count": null,
   "metadata": {
    "scrolled": true
   },
   "outputs": [],
   "source": [
    "tree_random.best_params_"
   ]
  },
  {
   "cell_type": "code",
   "execution_count": null,
   "metadata": {
    "scrolled": false
   },
   "outputs": [],
   "source": [
    "base_model_tree = DecisionTreeClassifier(random_state = 1)\n",
    "base_model_tree.fit(X_train,y_train)\n",
    "base_accuracy = evaluate(base_model_tree, X_test, y_test)"
   ]
  },
  {
   "cell_type": "code",
   "execution_count": null,
   "metadata": {
    "scrolled": true
   },
   "outputs": [],
   "source": [
    "best_random = tree_random.best_estimator_\n",
    "random_accuracy = evaluate(best_random, X_test, y_test)"
   ]
  },
  {
   "cell_type": "markdown",
   "metadata": {},
   "source": [
    "### Logistic Regression"
   ]
  },
  {
   "cell_type": "code",
   "execution_count": null,
   "metadata": {},
   "outputs": [],
   "source": [
    "clf_logit = LogisticRegression()\n",
    "clf_logit.fit(X_train,y_train)\n",
    "y_pred_logit = clf_logit.predict(X_test)\n",
    "score_logistics_regression = round(metrics.accuracy_score(y_true=y_test, y_pred=y_pred_logit),2)\n",
    "score_logistics_regression"
   ]
  },
  {
   "cell_type": "code",
   "execution_count": null,
   "metadata": {},
   "outputs": [],
   "source": [
    "exp_logit = dx.Explainer(clf_logit, X_train, y_train)\n",
    "mp_logit = exp_logit.model_performance(model_type = 'classification')\n",
    "mp_logit.result"
   ]
  },
  {
   "cell_type": "code",
   "execution_count": null,
   "metadata": {},
   "outputs": [],
   "source": [
    "mp_logit.plot()"
   ]
  },
  {
   "cell_type": "code",
   "execution_count": null,
   "metadata": {},
   "outputs": [],
   "source": [
    "vi_logit = exp_logit.model_parts()\n",
    "vi_logit.result"
   ]
  },
  {
   "cell_type": "code",
   "execution_count": null,
   "metadata": {},
   "outputs": [],
   "source": [
    "vi_logit.plot(max_vars=10)"
   ]
  },
  {
   "cell_type": "code",
   "execution_count": null,
   "metadata": {},
   "outputs": [],
   "source": [
    "pdp_num = exp_logit.model_profile(type = 'partial', label=\"pdp\")\n",
    "ale_num = exp_logit.model_profile(type = 'accumulated', label=\"ale\")\n",
    "pdp_num.plot(ale_num)"
   ]
  },
  {
   "cell_type": "code",
   "execution_count": null,
   "metadata": {},
   "outputs": [],
   "source": [
    "score_val_logit = cross_val_score(clf_logit, X_test, y_test, cv=5)\n",
    "score_val_logit"
   ]
  },
  {
   "cell_type": "code",
   "execution_count": null,
   "metadata": {},
   "outputs": [],
   "source": [
    "conf_m_logit = metrics.confusion_matrix(y_test, y_pred_logit)\n",
    "conf_m_logit"
   ]
  },
  {
   "cell_type": "code",
   "execution_count": null,
   "metadata": {
    "scrolled": true
   },
   "outputs": [],
   "source": [
    "plot_confusion_matrix(clf_logit, X_test, y_test) \n",
    "plt.show()  "
   ]
  },
  {
   "cell_type": "markdown",
   "metadata": {},
   "source": [
    "### Random Search Cross Validation "
   ]
  },
  {
   "cell_type": "code",
   "execution_count": null,
   "metadata": {
    "scrolled": true
   },
   "outputs": [],
   "source": [
    "print('Parameters currently in use:\\n')\n",
    "pprint(clf_logit.get_params())"
   ]
  },
  {
   "cell_type": "code",
   "execution_count": null,
   "metadata": {
    "scrolled": true
   },
   "outputs": [],
   "source": [
    "# Create the random grid\n",
    "random_grid = {'C': [1.0],\n",
    "               'class_weight': [None],\n",
    "               'dual': [False], \n",
    "               'fit_intercept': [True,False],\n",
    "               'intercept_scaling': [1],\n",
    "               'l1_ratio': [0.1,0.5,0.7],\n",
    "               'max_iter': [50,100,150,200,250], \n",
    "               'penalty': ['l2','elasticnet'],\n",
    "               'random_state': [0],\n",
    "               'solver': ['newton-cg', 'lbfgs', 'liblinear', 'sag', 'saga'], \n",
    "               'tol': [0.0001],\n",
    "               'verbose': [0],\n",
    "               'warm_start': [True,False],  \n",
    "               'n_jobs': [-1]}\n",
    "pprint(random_grid)"
   ]
  },
  {
   "cell_type": "code",
   "execution_count": null,
   "metadata": {},
   "outputs": [],
   "source": [
    "logit_random = RandomizedSearchCV(estimator = clf_logit, \n",
    "                                  param_distributions = random_grid, \n",
    "                                  n_iter = 100, \n",
    "                                  cv = 3, \n",
    "                                  verbose=2, \n",
    "                                  random_state=42, \n",
    "                                  n_jobs = -1)"
   ]
  },
  {
   "cell_type": "code",
   "execution_count": null,
   "metadata": {},
   "outputs": [],
   "source": [
    "logit_random.fit(X_train,y_train)"
   ]
  },
  {
   "cell_type": "code",
   "execution_count": null,
   "metadata": {
    "scrolled": true
   },
   "outputs": [],
   "source": [
    "logit_random.best_params_"
   ]
  },
  {
   "cell_type": "code",
   "execution_count": null,
   "metadata": {},
   "outputs": [],
   "source": [
    "base_model_logit = LogisticRegression()\n",
    "base_model_logit.fit(X_train,y_train)\n",
    "base_accuracy = evaluate(base_model_logit, X_test, y_test)"
   ]
  },
  {
   "cell_type": "code",
   "execution_count": null,
   "metadata": {},
   "outputs": [],
   "source": [
    "best_random = logit_random.best_estimator_\n",
    "random_accuracy = evaluate(best_random, X_test, y_test)"
   ]
  },
  {
   "cell_type": "markdown",
   "metadata": {},
   "source": [
    "## Random Forest "
   ]
  },
  {
   "cell_type": "code",
   "execution_count": null,
   "metadata": {},
   "outputs": [],
   "source": [
    "clf_rrf = RandomForestClassifier()\n",
    "clf_rrf.fit(X_train, y_train)\n",
    "y_pred_rfe = clf_rrf.predict(X_test)\n",
    "score_rrf = metrics.accuracy_score(y_true=y_test, y_pred=y_pred_rfe)\n",
    "score_rrf"
   ]
  },
  {
   "cell_type": "code",
   "execution_count": null,
   "metadata": {},
   "outputs": [],
   "source": [
    "exp_rrf = dx.Explainer(clf_rrf, X_train, y_train)\n",
    "mp_rrf = exp_rrf.model_performance(model_type = 'classification')\n",
    "mp_rrf.result"
   ]
  },
  {
   "cell_type": "code",
   "execution_count": null,
   "metadata": {},
   "outputs": [],
   "source": [
    "mp_rrf.plot()"
   ]
  },
  {
   "cell_type": "code",
   "execution_count": null,
   "metadata": {},
   "outputs": [],
   "source": [
    "vi_rrf = exp_rrf.model_parts()\n",
    "vi_rrf.result"
   ]
  },
  {
   "cell_type": "code",
   "execution_count": null,
   "metadata": {},
   "outputs": [],
   "source": [
    "vi_rrf.plot(max_vars=10)"
   ]
  },
  {
   "cell_type": "code",
   "execution_count": null,
   "metadata": {},
   "outputs": [],
   "source": [
    "pdp_num = exp_rrf.model_profile(type = 'partial', label=\"pdp\")\n",
    "ale_num = exp_rrf.model_profile(type = 'accumulated', label=\"ale\")\n",
    "pdp_num.plot(ale_num)"
   ]
  },
  {
   "cell_type": "code",
   "execution_count": null,
   "metadata": {},
   "outputs": [],
   "source": [
    "score_val_rrf = cross_val_score(clf_rrf, X_test, y_test, cv=5)\n",
    "score_val_rrf"
   ]
  },
  {
   "cell_type": "code",
   "execution_count": null,
   "metadata": {},
   "outputs": [],
   "source": [
    "conf_m_rrf = metrics.confusion_matrix(y_test, y_pred_rfe)\n",
    "conf_m_rrf"
   ]
  },
  {
   "cell_type": "code",
   "execution_count": null,
   "metadata": {},
   "outputs": [],
   "source": [
    "plot_confusion_matrix(clf_rrf, X_test, y_test) \n",
    "plt.show()  "
   ]
  },
  {
   "cell_type": "markdown",
   "metadata": {},
   "source": [
    "### Random Search Cross Validation "
   ]
  },
  {
   "cell_type": "code",
   "execution_count": null,
   "metadata": {},
   "outputs": [],
   "source": [
    "print('Parameters currently in use:\\n')\n",
    "pprint(clf_rrf.get_params())"
   ]
  },
  {
   "cell_type": "code",
   "execution_count": null,
   "metadata": {},
   "outputs": [],
   "source": [
    "random_grid = {'bootstrap': [True,False],\n",
    "               'ccp_alpha': [0.0],\n",
    "               'criterion': [\"gini\", \"entropy\"],\n",
    "               'max_depth': [2,4,6,10],\n",
    "               'max_features': ['auto', 'sqrt', 'log2'],\n",
    "               'max_leaf_nodes': [2,4,6,8]\n",
    "               'max_samples': [2,4],\n",
    "               'min_impurity_decrease': [0.0],\n",
    "               'min_samples_leaf': [1,5,7],\n",
    "               'min_weight_fraction_leaf': [0.0],\n",
    "               'n_estimators': [100,500,1000],\n",
    "               'n_jobs': [-1],\n",
    "               'oob_score': [True,False],\n",
    "               'verbose': [0],\n",
    "               'warm_start': [True,False]} \n",
    "pprint(random_grid)"
   ]
  },
  {
   "cell_type": "code",
   "execution_count": null,
   "metadata": {},
   "outputs": [],
   "source": [
    "rrf_random = RandomizedSearchCV(estimator = clf_rrf, \n",
    "                                param_distributions = random_grid, \n",
    "                                n_iter = 100, \n",
    "                                cv = 3, \n",
    "                                verbose=2, \n",
    "                                random_state=42, \n",
    "                                n_jobs = -1)"
   ]
  },
  {
   "cell_type": "code",
   "execution_count": null,
   "metadata": {},
   "outputs": [],
   "source": [
    "rrf_random.fit(X_train,y_train)"
   ]
  },
  {
   "cell_type": "code",
   "execution_count": null,
   "metadata": {},
   "outputs": [],
   "source": [
    "rrf_random.best_params_"
   ]
  },
  {
   "cell_type": "code",
   "execution_count": null,
   "metadata": {},
   "outputs": [],
   "source": [
    "base_model_rrf = RandomForestClassifier()\n",
    "base_model_rrf.fit(X_train,y_train)\n",
    "base_accuracy = evaluate(base_model_rrf, X_test, y_test)"
   ]
  },
  {
   "cell_type": "code",
   "execution_count": null,
   "metadata": {},
   "outputs": [],
   "source": [
    "best_random = rrf_random.best_estimator_\n",
    "random_accuracy = evaluate(best_random, X_test, y_test)"
   ]
  },
  {
   "cell_type": "markdown",
   "metadata": {},
   "source": [
    "## XGBoost"
   ]
  },
  {
   "cell_type": "code",
   "execution_count": null,
   "metadata": {},
   "outputs": [],
   "source": [
    "clf_xgboost = XGBClassifier()\n",
    "clf_xgboost.fit(X_train, y_train)\n",
    "y_pred_xgboost = clf_xgboost.predict(X_test)\n",
    "score_xgboost = metrics.accuracy_score(y_true=y_test, y_pred=y_pred_xgboost)\n",
    "score_xgboost"
   ]
  },
  {
   "cell_type": "code",
   "execution_count": null,
   "metadata": {},
   "outputs": [],
   "source": [
    "exp_xgboost = dx.Explainer(clf_xgboost, X_train, y_train)\n",
    "mp_xgboost = exp_xgboost.model_performance(model_type = 'classification')\n",
    "mp_xgboost.result"
   ]
  },
  {
   "cell_type": "code",
   "execution_count": null,
   "metadata": {},
   "outputs": [],
   "source": [
    "mp_xgboost.plot()"
   ]
  },
  {
   "cell_type": "code",
   "execution_count": null,
   "metadata": {},
   "outputs": [],
   "source": [
    "vi_xgboost = exp_xgboost.model_parts()\n",
    "vi_xgboost.result"
   ]
  },
  {
   "cell_type": "code",
   "execution_count": null,
   "metadata": {},
   "outputs": [],
   "source": [
    "vi_xgboost.plot(max_vars=10)"
   ]
  },
  {
   "cell_type": "code",
   "execution_count": null,
   "metadata": {},
   "outputs": [],
   "source": [
    "pdp_num = exp_xgboost.model_profile(type = 'partial', label=\"pdp\")\n",
    "ale_num = exp_xgboost.model_profile(type = 'accumulated', label=\"ale\")\n",
    "pdp_num.plot(ale_num)"
   ]
  },
  {
   "cell_type": "code",
   "execution_count": null,
   "metadata": {},
   "outputs": [],
   "source": [
    "score_val_xgboost = cross_val_score(clf_xgboost, X_test, y_test, cv=5)\n",
    "score_val_xgboost"
   ]
  },
  {
   "cell_type": "code",
   "execution_count": null,
   "metadata": {},
   "outputs": [],
   "source": [
    "conf_m_xgboost = metrics.confusion_matrix(y_test, y_pred_xgboost)\n",
    "conf_m_xgboost"
   ]
  },
  {
   "cell_type": "code",
   "execution_count": null,
   "metadata": {},
   "outputs": [],
   "source": [
    "plot_confusion_matrix(clf_xgboost, X_test, y_test) \n",
    "plt.show() "
   ]
  },
  {
   "cell_type": "markdown",
   "metadata": {},
   "source": [
    "### Random Search Cross Validation "
   ]
  },
  {
   "cell_type": "code",
   "execution_count": null,
   "metadata": {
    "scrolled": true
   },
   "outputs": [],
   "source": [
    "print('Parameters currently in use:\\n')\n",
    "pprint(clf_xgboost.get_params())"
   ]
  },
  {
   "cell_type": "code",
   "execution_count": null,
   "metadata": {},
   "outputs": [],
   "source": [
    "# Create the random grid\n",
    "random_grid = {'importance_type': ['gain'],\n",
    "               'max_delta_step': [1,5],\n",
    "               'max_depth': [5,10,15,25],\n",
    "               'min_child_weight': [1,5,10],\n",
    "               'n_estimators': [10,50,75,100],\n",
    "               'n_jobs': [-1],\n",
    "               'max_leaf_nodes': [5,10,15],\n",
    "               'objective': ['binary:logistic'],\n",
    "               'use_label_encoder': [True,False]}\n",
    "pprint(random_grid)"
   ]
  },
  {
   "cell_type": "code",
   "execution_count": null,
   "metadata": {},
   "outputs": [],
   "source": [
    "xgboost_random = RandomizedSearchCV(estimator = clf_xgboost, \n",
    "                                    param_distributions = random_grid, \n",
    "                                    n_iter = 100, \n",
    "                                    cv = 3, \n",
    "                                    verbose=2, \n",
    "                                    random_state=42, \n",
    "                                    n_jobs = -1)"
   ]
  },
  {
   "cell_type": "code",
   "execution_count": null,
   "metadata": {
    "scrolled": true
   },
   "outputs": [],
   "source": [
    "xgboost_random.fit(X_train,y_train)"
   ]
  },
  {
   "cell_type": "code",
   "execution_count": null,
   "metadata": {
    "scrolled": true
   },
   "outputs": [],
   "source": [
    "xgboost_random.best_params_"
   ]
  },
  {
   "cell_type": "code",
   "execution_count": null,
   "metadata": {
    "scrolled": false
   },
   "outputs": [],
   "source": [
    "base_model_xgboost = XGBClassifier()\n",
    "base_model_xgboost.fit(X_train,y_train)\n",
    "base_accuracy = evaluate(base_model_xgboost, X_test, y_test)"
   ]
  },
  {
   "cell_type": "code",
   "execution_count": null,
   "metadata": {
    "scrolled": true
   },
   "outputs": [],
   "source": [
    "best_random = xgboost_random.best_estimator_\n",
    "random_accuracy = evaluate(best_random, X_test, y_test)"
   ]
  },
  {
   "cell_type": "markdown",
   "metadata": {},
   "source": [
    "## Benchmark Models"
   ]
  },
  {
   "cell_type": "code",
   "execution_count": null,
   "metadata": {
    "scrolled": true
   },
   "outputs": [],
   "source": [
    "print(f\"Decision Tree Accuracy Score: {round(score_dtc,2)}\\n\"\n",
    "      f\"Logistics Regression Accuracy Score: {round(score_logistics_regression,2)}\\n\"\n",
    "      f\"Random Forest Accuracy Score: {round(score_rrf,2)}\\n\"\n",
    "      f\"XGBoost Accuracy Score: {round(score_xgboost,2)}\\n\")"
   ]
  },
  {
   "cell_type": "code",
   "execution_count": null,
   "metadata": {
    "scrolled": true
   },
   "outputs": [],
   "source": [
    "print(f\"Decision Tree Accuracy Score: {score_val_dtc}\\n\"\n",
    "      f\"Logistics Regression Accuracy Score: {score_val_logit}\\n\"\n",
    "      f\"Random Forest Accuracy Score: {score_val_rrf}\\n\"\n",
    "      f\"XGBoost Accuracy Score: {round(score_val_xgboost,2)}\\n\")"
   ]
  },
  {
   "cell_type": "code",
   "execution_count": null,
   "metadata": {},
   "outputs": [],
   "source": [
    "print(f\"Decision Tree Accuracy Score: {conf_m_rrf}\\n\"\n",
    "      f\"Logistics Regression Accuracy Score: {conf_m_rrf}\\n\"\n",
    "      f\"Random Forest Accuracy Score: {conf_m_rrf}\\n\"\n",
    "      f\"XGBoost Accuracy Score: {round(conf_rrf,2)}\\n\")"
   ]
  },
  {
   "cell_type": "code",
   "execution_count": null,
   "metadata": {
    "scrolled": false
   },
   "outputs": [],
   "source": [
    "print(f\"Improvement of Accuracy {100 * ((random_accuracy[0] - base_accuracy[0]) / base_accuracy[0])}\\n\")\n",
    "print(f\"Improvement of AUC {100 * ((random_accuracy[1] - base_accuracy[1]) / base_accuracy[1])}\\n\")\n",
    "print(f\"Improvement of ROC AUC {100 * ((random_accuracy[2] - base_accuracy[2]) / base_accuracy[2])}\\n\")\n",
    "print(f\"Improvement of ROC AUC SCORE  {100 * ((random_accuracy[3] - base_accuracy[3]) / base_accuracy[3])}\\n\")"
   ]
  }
 ],
 "metadata": {
  "kernelspec": {
   "display_name": "Python 3",
   "language": "python",
   "name": "python3"
  },
  "language_info": {
   "codemirror_mode": {
    "name": "ipython",
    "version": 3
   },
   "file_extension": ".py",
   "mimetype": "text/x-python",
   "name": "python",
   "nbconvert_exporter": "python",
   "pygments_lexer": "ipython3",
   "version": "3.8.5"
  }
 },
 "nbformat": 4,
 "nbformat_minor": 4
}
