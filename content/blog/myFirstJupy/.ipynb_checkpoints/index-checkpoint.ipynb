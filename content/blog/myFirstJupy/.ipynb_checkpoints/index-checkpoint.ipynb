{
 "cells": [
  {
   "cell_type": "markdown",
   "metadata": {},
   "source": [
    "---\n",
    "# Documentation: https://wowchemy.com/docs/managing-content/\n",
    "\n",
    "title: \"Lending Club\"\n",
    "subtitle: \"\"\n",
    "summary: \"\"\n",
    "authors: []\n",
    "tags: []\n",
    "categories: []\n",
    "date: 2021-04-30T22:40:52+02:00\n",
    "lastmod: 2021-04-30T22:40:52+02:00\n",
    "featured: false\n",
    "draft: false\n",
    "\n",
    "# Featured image\n",
    "# To use, add an image named `featured.jpg/png` to your page's folder.\n",
    "# Focal points: Smart, Center, TopLeft, Top, TopRight, Left, Right, BottomLeft, Bottom, BottomRight.\n",
    "image:\n",
    "  caption: \"\"\n",
    "  focal_point: \"\"\n",
    "  preview_only: false\n",
    "\n",
    "# Projects (optional).\n",
    "#   Associate this post with one or more of your projects.\n",
    "#   Simply enter your project's folder or file name without extension.\n",
    "#   E.g. `projects = [\"internal-project\"]` references `content/project/deep-learning/index.md`.\n",
    "#   Otherwise, set `projects = []`.\n",
    "projects: []\n",
    "---"
   ]
  },
  {
   "cell_type": "markdown",
   "metadata": {},
   "source": [
    "## Load Packages"
   ]
  },
  {
   "cell_type": "code",
   "execution_count": 1,
   "metadata": {},
   "outputs": [],
   "source": [
    "import plotly"
   ]
  },
  {
   "cell_type": "code",
   "execution_count": 2,
   "metadata": {},
   "outputs": [],
   "source": [
    "import warnings\n",
    "warnings.filterwarnings('ignore')\n",
    "##\n",
    "import pandas as pd\n",
    "import numpy as np\n",
    "import math\n",
    "import matplotlib.pyplot as plt\n",
    "from pprint import pprint\n",
    "import tabulatehelper as th\n",
    "##\n",
    "from sklearn import preprocessing\n",
    "##\n",
    "from sklearn.model_selection import train_test_split\n",
    "from sklearn.model_selection import RandomizedSearchCV\n",
    "from sklearn.model_selection import cross_val_score\n",
    "##\n",
    "from sklearn.decomposition import PCA\n",
    "##\n",
    "from sklearn.tree import DecisionTreeClassifier  \n",
    "from sklearn import tree\n",
    "##\n",
    "from sklearn.linear_model import LogisticRegression\n",
    "from sklearn.linear_model import RidgeClassifierCV\n",
    "##\n",
    "from sklearn.ensemble import RandomForestClassifier\n",
    "from sklearn import svm\n",
    "##\n",
    "from xgboost import XGBClassifier\n",
    "##\n",
    "from sklearn import metrics\n",
    "from sklearn.metrics import confusion_matrix\n",
    "from sklearn.metrics import plot_confusion_matrix\n",
    "##\n",
    "import dalex as dx"
   ]
  },
  {
   "cell_type": "markdown",
   "metadata": {},
   "source": [
    "## Function"
   ]
  },
  {
   "cell_type": "code",
   "execution_count": 3,
   "metadata": {},
   "outputs": [],
   "source": [
    "def evaluate(model, test_features, test_labels):\n",
    "    predictions = model.predict(test_features)\n",
    "    accuracy = round(metrics.accuracy_score(y_true=test_labels, y_pred=predictions),2)\n",
    "    fpr, tpr, thresholds = metrics.roc_curve(test_labels, predictions)\n",
    "    auc = round(metrics.auc(fpr,tpr),2)\n",
    "    roc_auc = round(metrics.roc_auc_score(y_true=test_labels, y_score=predictions),2)\n",
    "    roc_auc_score = round(metrics.roc_auc_score(y_true=test_labels, y_score=predictions),2)\n",
    "    print(f\"Accuracy = {accuracy}\\n\")\n",
    "    print(f\"AUC = {auc}\\n\")\n",
    "    print(f\"ROC AUC = {roc_auc}\\n\")\n",
    "    print(f\"ROC AUC SCORE = {roc_auc_score}\\n\")\n",
    "    return(accuracy,auc,roc_auc,roc_auc_score)"
   ]
  },
  {
   "cell_type": "code",
   "execution_count": 4,
   "metadata": {},
   "outputs": [],
   "source": [
    "def get_important_features(transformed_features, components_, columns):\n",
    "    \"\"\"\n",
    "    This function will return the most \"important\" \n",
    "    features so we can determine which have the most\n",
    "    effect on multi-dimensional scaling\n",
    "    \"\"\"\n",
    "    num_columns = len(columns)\n",
    "\n",
    "    # Scale the principal components by the max value in\n",
    "    # the transformed set belonging to that component\n",
    "    xvector = components_[0] * max(transformed_features[:,0])\n",
    "    yvector = components_[1] * max(transformed_features[:,1])\n",
    "\n",
    "    # Sort each column by it's length. These are your *original*\n",
    "    # columns, not the principal components.\n",
    "    important_features = { columns[i] : math.sqrt(xvector[i]**2 + yvector[i]**2) for i in range(num_columns) }\n",
    "    important_features = sorted(zip(important_features.values(), important_features.keys()), reverse=True)\n",
    "    return important_features"
   ]
  },
  {
   "cell_type": "markdown",
   "metadata": {},
   "source": [
    "## Load Data"
   ]
  },
  {
   "cell_type": "code",
   "execution_count": 5,
   "metadata": {},
   "outputs": [],
   "source": [
    "data_lending_club_default = pd.read_csv('data_lending_club_default.csv',low_memory=False)\n",
    "cols = [c for c in data_lending_club_default.columns if c.lower()[-5:] != '_cats']\n",
    "data_lending_club_default=data_lending_club_default[cols]\n",
    "data_lending_club_default.columns = data_lending_club_default.columns.str.replace(\"_nums\", \"\")\n",
    "data_lending_club_default.drop('id', inplace=True, axis=1)"
   ]
  },
  {
   "cell_type": "markdown",
   "metadata": {},
   "source": [
    "## Data Info"
   ]
  },
  {
   "cell_type": "code",
   "execution_count": 6,
   "metadata": {},
   "outputs": [
    {
     "name": "stdout",
     "output_type": "stream",
     "text": [
      "<class 'pandas.core.frame.DataFrame'>\n",
      "RangeIndex: 1379744 entries, 0 to 1379743\n",
      "Data columns (total 65 columns):\n",
      " #   Column                      Non-Null Count    Dtype  \n",
      "---  ------                      --------------    -----  \n",
      " 0   loan_amnt                   1379744 non-null  int64  \n",
      " 1   int_rate                    1379744 non-null  float64\n",
      " 2   installment                 1379744 non-null  float64\n",
      " 3   annual_inc                  1379744 non-null  float64\n",
      " 4   issue_d                     1379744 non-null  int64  \n",
      " 5   dti                         1379744 non-null  float64\n",
      " 6   earliest_cr_line            1379721 non-null  float64\n",
      " 7   open_acc                    1379721 non-null  float64\n",
      " 8   revol_bal                   1379744 non-null  float64\n",
      " 9   revol_util                  1378828 non-null  float64\n",
      " 10  total_acc                   1379721 non-null  float64\n",
      " 11  total_pymnt                 1379744 non-null  float64\n",
      " 12  total_pymnt_inv             1379744 non-null  float64\n",
      " 13  total_rec_prncp             1379744 non-null  float64\n",
      " 14  total_rec_int               1379744 non-null  float64\n",
      " 15  total_rec_late_fee          1379744 non-null  float64\n",
      " 16  last_pymnt_d                1377332 non-null  float64\n",
      " 17  last_credit_pull_d          1379687 non-null  float64\n",
      " 18  tot_cur_bal                 1310142 non-null  float64\n",
      " 19  total_rev_hi_lim            1310142 non-null  float64\n",
      " 20  acc_open_past_24mths        1330374 non-null  float64\n",
      " 21  avg_cur_bal                 1310119 non-null  float64\n",
      " 22  bc_open_to_buy              1316084 non-null  float64\n",
      " 23  bc_util                     1315295 non-null  float64\n",
      " 24  mo_sin_old_il_acct          1271215 non-null  float64\n",
      " 25  mo_sin_old_rev_tl_op        1310141 non-null  float64\n",
      " 26  mo_sin_rcnt_rev_tl_op       1310141 non-null  float64\n",
      " 27  mo_sin_rcnt_tl              1310142 non-null  float64\n",
      " 28  mort_acc                    1330374 non-null  float64\n",
      " 29  mths_since_recent_bc        1317040 non-null  float64\n",
      " 30  mths_since_recent_inq       1200944 non-null  float64\n",
      " 31  num_accts_ever_120_pd       1310142 non-null  float64\n",
      " 32  num_actv_bc_tl              1310142 non-null  float64\n",
      " 33  num_actv_rev_tl             1310142 non-null  float64\n",
      " 34  num_bc_sats                 1321820 non-null  float64\n",
      " 35  num_bc_tl                   1310142 non-null  float64\n",
      " 36  num_il_tl                   1310142 non-null  float64\n",
      " 37  num_op_rev_tl               1310142 non-null  float64\n",
      " 38  num_rev_accts               1310141 non-null  float64\n",
      " 39  num_rev_tl_bal_gt_0         1310142 non-null  float64\n",
      " 40  num_sats                    1321820 non-null  float64\n",
      " 41  num_tl_90g_dpd_24m          1310142 non-null  float64\n",
      " 42  num_tl_op_past_12m          1310142 non-null  float64\n",
      " 43  pct_tl_nvr_dlq              1309988 non-null  float64\n",
      " 44  percent_bc_gt_75            1315670 non-null  float64\n",
      " 45  tot_hi_cred_lim             1310142 non-null  float64\n",
      " 46  total_bal_ex_mort           1330374 non-null  float64\n",
      " 47  total_bc_limit              1330374 non-null  float64\n",
      " 48  total_il_high_credit_limit  1310142 non-null  float64\n",
      " 49  loan_status                 1379744 non-null  int64  \n",
      " 50  term                        1379744 non-null  int64  \n",
      " 51  emp_length                  1379744 non-null  int64  \n",
      " 52  home_ownership              1379744 non-null  int64  \n",
      " 53  verification_status         1379744 non-null  int64  \n",
      " 54  purpose                     1379744 non-null  int64  \n",
      " 55  verification_status_joint   1379744 non-null  int64  \n",
      " 56  grade                       1379744 non-null  int64  \n",
      " 57  sub_grade_A                 1379744 non-null  int64  \n",
      " 58  sub_grade_B                 1379744 non-null  int64  \n",
      " 59  sub_grade_C                 1379744 non-null  int64  \n",
      " 60  sub_grade_D                 1379744 non-null  int64  \n",
      " 61  sub_grade_E                 1282452 non-null  float64\n",
      " 62  sub_grade_F                 1379744 non-null  int64  \n",
      " 63  sub_grade_G                 1379744 non-null  int64  \n",
      " 64  initial_list_status         1379744 non-null  int64  \n",
      "dtypes: float64(48), int64(17)\n",
      "memory usage: 684.2 MB\n"
     ]
    }
   ],
   "source": [
    "data_lending_club_default.info()"
   ]
  },
  {
   "cell_type": "code",
   "execution_count": 7,
   "metadata": {
    "scrolled": false
   },
   "outputs": [
    {
     "data": {
      "text/plain": [
       "loan_amnt                  0\n",
       "int_rate                   0\n",
       "installment                0\n",
       "annual_inc                 0\n",
       "issue_d                    0\n",
       "                       ...  \n",
       "sub_grade_D                0\n",
       "sub_grade_E            97292\n",
       "sub_grade_F                0\n",
       "sub_grade_G                0\n",
       "initial_list_status        0\n",
       "Length: 65, dtype: int64"
      ]
     },
     "execution_count": 7,
     "metadata": {},
     "output_type": "execute_result"
    }
   ],
   "source": [
    "data_lending_club_default.isnull().sum()"
   ]
  },
  {
   "cell_type": "code",
   "execution_count": 8,
   "metadata": {
    "scrolled": false
   },
   "outputs": [
    {
     "data": {
      "text/plain": [
       "loan_amnt              0\n",
       "int_rate               0\n",
       "installment            0\n",
       "annual_inc             0\n",
       "issue_d                0\n",
       "                      ..\n",
       "sub_grade_D            0\n",
       "sub_grade_E            0\n",
       "sub_grade_F            0\n",
       "sub_grade_G            0\n",
       "initial_list_status    0\n",
       "Length: 65, dtype: int64"
      ]
     },
     "execution_count": 8,
     "metadata": {},
     "output_type": "execute_result"
    }
   ],
   "source": [
    "data_lending_club_default = data_lending_club_default.dropna()\n",
    "data_lending_club_default.isnull().sum()"
   ]
  },
  {
   "cell_type": "code",
   "execution_count": 9,
   "metadata": {
    "scrolled": true
   },
   "outputs": [
    {
     "data": {
      "text/plain": [
       "0    830960\n",
       "1    223424\n",
       "Name: loan_status, dtype: int64"
      ]
     },
     "execution_count": 9,
     "metadata": {},
     "output_type": "execute_result"
    }
   ],
   "source": [
    "data_lending_club_default['loan_status'].value_counts()"
   ]
  },
  {
   "cell_type": "code",
   "execution_count": 10,
   "metadata": {
    "scrolled": true
   },
   "outputs": [
    {
     "name": "stdout",
     "output_type": "stream",
     "text": [
      "0.21\n"
     ]
    }
   ],
   "source": [
    "print(\"%.2f\" % round(223424/len(data_lending_club_default.index), 2))"
   ]
  },
  {
   "cell_type": "markdown",
   "metadata": {},
   "source": [
    "## Graph"
   ]
  },
  {
   "cell_type": "code",
   "execution_count": null,
   "metadata": {},
   "outputs": [],
   "source": []
  },
  {
   "cell_type": "markdown",
   "metadata": {},
   "source": [
    "## Split Data"
   ]
  },
  {
   "cell_type": "code",
   "execution_count": 11,
   "metadata": {},
   "outputs": [],
   "source": [
    "X = data_lending_club_default.drop('loan_status', axis=1)\n",
    "y = data_lending_club_default.loan_status"
   ]
  },
  {
   "cell_type": "markdown",
   "metadata": {},
   "source": [
    "## Correlation"
   ]
  },
  {
   "cell_type": "code",
   "execution_count": 12,
   "metadata": {
    "scrolled": true
   },
   "outputs": [
    {
     "data": {
      "text/plain": [
       "loan_amnt              False\n",
       "int_rate               False\n",
       "installment            False\n",
       "annual_inc             False\n",
       "issue_d                False\n",
       "                       ...  \n",
       "sub_grade_D            False\n",
       "sub_grade_E             True\n",
       "sub_grade_F            False\n",
       "sub_grade_G             True\n",
       "initial_list_status    False\n",
       "Length: 64, dtype: bool"
      ]
     },
     "execution_count": 12,
     "metadata": {},
     "output_type": "execute_result"
    }
   ],
   "source": [
    "corr = X.corr()\n",
    "features_corr = ~(corr.mask(np.eye(len(corr), dtype=bool)).abs() > 0.3).any()\n",
    "features_corr"
   ]
  },
  {
   "cell_type": "code",
   "execution_count": 13,
   "metadata": {},
   "outputs": [
    {
     "name": "stdout",
     "output_type": "stream",
     "text": [
      "|   emp_length |   mths_since_recent_inq |   purpose |   sub_grade_E |   sub_grade_G |   total_rec_late_fee |   verification_status |   verification_status_joint |\n",
      "|-------------:|------------------------:|----------:|--------------:|--------------:|---------------------:|----------------------:|:---------------------------:|\n",
      "|           11 |                       4 |         9 |             0 |             0 |                    0 |                     0 |                           0 |\n",
      "|           11 |                       0 |         3 |             0 |             0 |                    0 |                     0 |                           0 |\n",
      "|           11 |                      10 |         7 |             0 |             0 |                    0 |                     0 |                           0 |\n",
      "|            4 |                       1 |         6 |             0 |             0 |                    0 |                     1 |                           0 |\n",
      "|           11 |                      10 |         9 |             0 |             0 |                    0 |                     0 |                           0 |\n"
     ]
    }
   ],
   "source": [
    "X_good = corr.loc[features_corr, features_corr]\n",
    "lst_variable_corr = X_good.columns.values.tolist()\n",
    "X_corr = X[np.intersect1d(X.columns, lst_variable_corr)]\n",
    "df_corr = X[X_corr.columns]\n",
    "print(th.md_table(df_corr.head(),formats={-1: 'c'}))"
   ]
  },
  {
   "cell_type": "markdown",
   "metadata": {},
   "source": [
    "## PCA"
   ]
  },
  {
   "cell_type": "code",
   "execution_count": 14,
   "metadata": {},
   "outputs": [
    {
     "data": {
      "text/plain": [
       "(1054384, 14)"
      ]
     },
     "execution_count": 14,
     "metadata": {},
     "output_type": "execute_result"
    }
   ],
   "source": [
    "pca = PCA(n_components=14, svd_solver='full')\n",
    "pca.fit(X)\n",
    "T = pca.transform(X)\n",
    "T.shape"
   ]
  },
  {
   "cell_type": "code",
   "execution_count": 15,
   "metadata": {
    "scrolled": true
   },
   "outputs": [
    {
     "data": {
      "text/plain": [
       "array([8.47684413e-01, 6.35440344e-02, 4.12811786e-02, 2.58817139e-02,\n",
       "       9.32454435e-03, 4.75106489e-03, 3.83054499e-03, 1.33970838e-03,\n",
       "       8.98406429e-04, 8.08620064e-04, 3.14865578e-04, 2.63573857e-04,\n",
       "       7.39575398e-05, 3.08489023e-06])"
      ]
     },
     "execution_count": 15,
     "metadata": {},
     "output_type": "execute_result"
    }
   ],
   "source": [
    "pca.explained_variance_ratio_"
   ]
  },
  {
   "cell_type": "code",
   "execution_count": 16,
   "metadata": {
    "scrolled": true
   },
   "outputs": [
    {
     "name": "stdout",
     "output_type": "stream",
     "text": [
      "|        PCA_Value | Variable                   |\n",
      "|-----------------:|:--------------------------:|\n",
      "|      9.64516e+06 | annual_inc                 |\n",
      "|      7.9843e+06  | tot_hi_cred_lim            |\n",
      "|      7.16197e+06 | tot_cur_bal                |\n",
      "|      2.42967e+06 | total_bal_ex_mort          |\n",
      "|      2.01028e+06 | total_il_high_credit_limit |\n",
      "|      1.22694e+06 | total_rev_hi_lim           |\n",
      "| 757233           | revol_bal                  |\n",
      "| 711373           | total_bc_limit             |\n",
      "| 648939           | avg_cur_bal                |\n",
      "| 314991           | total_pymnt                |\n",
      "| 314912           | total_pymnt_inv            |\n",
      "| 312182           | bc_open_to_buy             |\n",
      "| 310222           | loan_amnt                  |\n",
      "| 270905           | total_rec_prncp            |\n",
      "|  40408.8         | total_rec_int              |\n",
      "|   9312.46        | installment                |\n",
      "|   1143.48        | mo_sin_old_rev_tl_op       |\n",
      "|    679.885       | mo_sin_old_il_acct         |\n",
      "|    262.909       | total_acc                  |\n",
      "|    151.347       | num_il_tl                  |\n",
      "|    132.093       | dti                        |\n",
      "|    114.609       | percent_bc_gt_75           |\n",
      "|    110.148       | open_acc                   |\n",
      "|    109.824       | num_sats                   |\n",
      "|     95.2199      | num_rev_accts              |\n",
      "|     87.9602      | earliest_cr_line           |\n",
      "|     86.4383      | revol_util                 |\n"
     ]
    }
   ],
   "source": [
    "components = pd.DataFrame(pca.components_, columns = X.columns, index=[1,2,3,4,5,6,7,8,9,10,11,12,13,14])\n",
    "pca_result = get_important_features(T, pca.components_, X.columns.values)\n",
    "pca_result = pd.DataFrame(pca_result,columns=['PCA_Value','Variable'])\n",
    "pca_result = pca_result[pca_result[\"PCA_Value\"] >= 75]\n",
    "print(th.md_table(pca_result,formats={-1: 'c'}))"
   ]
  },
  {
   "cell_type": "code",
   "execution_count": 17,
   "metadata": {},
   "outputs": [
    {
     "name": "stdout",
     "output_type": "stream",
     "text": [
      "|   annual_inc |   tot_hi_cred_lim |   tot_cur_bal |   total_bal_ex_mort |   total_il_high_credit_limit |   total_rev_hi_lim |   revol_bal |   total_bc_limit |   avg_cur_bal |   total_pymnt |   total_pymnt_inv |   bc_open_to_buy |   loan_amnt |   total_rec_prncp |   total_rec_int |   installment |   mo_sin_old_rev_tl_op |   mo_sin_old_il_acct |   total_acc |   num_il_tl |   dti |   percent_bc_gt_75 |   open_acc |   num_sats |   num_rev_accts |   earliest_cr_line |   revol_util |\n",
      "|-------------:|------------------:|--------------:|--------------------:|-----------------------------:|-------------------:|------------:|-----------------:|--------------:|--------------:|------------------:|-----------------:|------------:|------------------:|----------------:|--------------:|-----------------------:|---------------------:|------------:|------------:|------:|-------------------:|-----------:|-----------:|----------------:|-------------------:|:------------:|\n",
      "|        55000 |            178050 |        144904 |                7746 |                        13734 |               9300 |        2765 |             2400 |         20701 |       4421.72 |           4421.72 |             1506 |        3600 |              3600 |          821.72 |        123.03 |                    128 |                  148 |          13 |           3 |  5.91 |                0   |          7 |          7 |               9 |                 16 |         29.7 |\n",
      "|        65000 |            314017 |        204396 |               39475 |                        24667 |             111800 |       21470 |            79300 |          9733 |      25679.7  |          25679.7  |            57830 |       24700 |             24700 |          979.66 |        820.28 |                    192 |                  113 |          38 |           6 | 16.06 |                7.7 |         22 |         22 |              27 |                 20 |         19.2 |\n",
      "|        63000 |            218418 |        189699 |               18696 |                        14877 |              14000 |        7869 |             6200 |         31617 |      22705.9  |          22705.9  |             2737 |       20000 |             20000 |         2705.92 |        432.66 |                    184 |                  125 |          18 |           6 | 10.78 |               50   |          6 |          6 |               7 |                 19 |         56.2 |\n",
      "|       104433 |            439570 |        331730 |               95768 |                        88097 |              34000 |       21929 |            20300 |         27644 |      11740.5  |          11740.5  |             4567 |       10400 |             10400 |         1340.5  |        289.91 |                    210 |                  128 |          35 |          10 | 25.37 |               60   |         12 |         12 |              19 |                 21 |         64.5 |\n",
      "|       180000 |            388852 |        360358 |              116762 |                        46452 |              94200 |       87329 |            31500 |         30030 |      21393.8  |          21393.8  |                0 |       20000 |             20000 |         1393.8  |        637.58 |                    306 |                  142 |          27 |           7 | 14.67 |              100   |         12 |         12 |              16 |                 29 |         84.5 |\n"
     ]
    }
   ],
   "source": [
    "X_pca = pca_result['Variable']\n",
    "df_pca = X[X_pca]\n",
    "print(th.md_table(df_pca.head(),formats={-1: 'c'}))"
   ]
  },
  {
   "cell_type": "markdown",
   "metadata": {},
   "source": [
    "## Split Dataset "
   ]
  },
  {
   "cell_type": "code",
   "execution_count": 18,
   "metadata": {},
   "outputs": [],
   "source": [
    "X_train, X_test, y_train, y_test = train_test_split(df_corr, y, test_size=0.3, random_state=1)"
   ]
  },
  {
   "cell_type": "markdown",
   "metadata": {},
   "source": [
    "### Logistic Regression"
   ]
  },
  {
   "cell_type": "code",
   "execution_count": 19,
   "metadata": {},
   "outputs": [
    {
     "data": {
      "text/plain": [
       "0.79"
      ]
     },
     "execution_count": 19,
     "metadata": {},
     "output_type": "execute_result"
    }
   ],
   "source": [
    "clf_logit = LogisticRegression()\n",
    "clf_logit.fit(X_train,y_train)\n",
    "y_pred_logit = clf_logit.predict(X_test)\n",
    "score_logistics_regression = round(metrics.accuracy_score(y_true=y_test, y_pred=y_pred_logit),2)\n",
    "score_logistics_regression"
   ]
  },
  {
   "cell_type": "code",
   "execution_count": 20,
   "metadata": {
    "scrolled": true
   },
   "outputs": [
    {
     "name": "stdout",
     "output_type": "stream",
     "text": [
      "Preparation of a new explainer is initiated\n",
      "\n",
      "  -> data              : 738068 rows 8 cols\n",
      "  -> target variable   : Parameter 'y' was a pandas.Series. Converted to a numpy.ndarray.\n",
      "  -> target variable   : 738068 values\n",
      "  -> model_class       : sklearn.linear_model._logistic.LogisticRegression (default)\n",
      "  -> label             : Not specified, model's class short name will be used. (default)\n",
      "  -> predict function  : <function yhat_proba_default at 0x000001AFA49C0820> will be used (default)\n",
      "  -> predict function  : Accepts pandas.DataFrame and numpy.ndarray.\n",
      "  -> predicted values  : min = 0.106, mean = 0.212, max = 1.0\n",
      "  -> model type        : classification will be used (default)\n",
      "  -> residual function : difference between y and yhat (default)\n",
      "  -> residuals         : min = -1.0, mean = 1.66e-06, max = 0.892\n",
      "  -> model_info        : package sklearn\n",
      "\n",
      "A new explainer has been created!\n",
      "|   recall |   precision |       f1 |   accuracy |      auc |\n",
      "|---------:|------------:|---------:|-----------:|:--------:|\n",
      "| 0.060286 |    0.659911 | 0.110479 |   0.793997 | 0.622691 |\n"
     ]
    }
   ],
   "source": [
    "exp_logit = dx.Explainer(clf_logit, X_train, y_train)\n",
    "mp_logit = exp_logit.model_performance(model_type = 'classification')\n",
    "print(th.md_table(mp_logit.result,formats={-1: 'c'}))"
   ]
  },
  {
   "cell_type": "code",
   "execution_count": 21,
   "metadata": {},
   "outputs": [],
   "source": [
    "fig = mp_logit.plot()\n",
    "fig\n",
    "plotly.io.write_json(fig,\"C:\\\\Users\\\\piotr\\\\Desktop\\\\Git\\\\nsvceodeveloper\\\\static\\\\plotly\\\\mp_logit.json\") # wywalic"
   ]
  },
  {
   "cell_type": "markdown",
   "metadata": {},
   "source": [
    "{{< load-plotly >}}\n",
    "{{< plotly json=\"/plotly/mp_logit.json\" height=\"600px\" >}}"
   ]
  },
  {
   "cell_type": "code",
   "execution_count": 22,
   "metadata": {},
   "outputs": [],
   "source": [
    "# vi_logit = exp_logit.model_parts()\n",
    "# vi_logit.result"
   ]
  },
  {
   "cell_type": "code",
   "execution_count": 23,
   "metadata": {},
   "outputs": [],
   "source": [
    "# vi_logit.plot(max_vars=10)"
   ]
  },
  {
   "cell_type": "code",
   "execution_count": 24,
   "metadata": {},
   "outputs": [],
   "source": [
    "# pdp_num = exp_logit.model_profile(type = 'partial', label=\"pdp\")\n",
    "# ale_num = exp_logit.model_profile(type = 'accumulated', label=\"ale\")\n",
    "# pdp_num.plot(ale_num)"
   ]
  },
  {
   "cell_type": "code",
   "execution_count": 25,
   "metadata": {},
   "outputs": [],
   "source": [
    "# score_val_logit = cross_val_score(clf_logit, X_test, y_test, cv=5)\n",
    "# score_val_logit"
   ]
  },
  {
   "cell_type": "code",
   "execution_count": 26,
   "metadata": {},
   "outputs": [],
   "source": [
    "# conf_m_logit = metrics.confusion_matrix(y_test, y_pred_logit)\n",
    "# conf_m_logit"
   ]
  },
  {
   "cell_type": "code",
   "execution_count": 27,
   "metadata": {
    "scrolled": true
   },
   "outputs": [],
   "source": [
    "# plot_confusion_matrix(clf_logit, X_test, y_test) \n",
    "# plt.show()  "
   ]
  }
 ],
 "metadata": {
  "kernelspec": {
   "display_name": "Python 3",
   "language": "python",
   "name": "python3"
  },
  "language_info": {
   "codemirror_mode": {
    "name": "ipython",
    "version": 3
   },
   "file_extension": ".py",
   "mimetype": "text/x-python",
   "name": "python",
   "nbconvert_exporter": "python",
   "pygments_lexer": "ipython3",
   "version": "3.8.5"
  }
 },
 "nbformat": 4,
 "nbformat_minor": 2
}
